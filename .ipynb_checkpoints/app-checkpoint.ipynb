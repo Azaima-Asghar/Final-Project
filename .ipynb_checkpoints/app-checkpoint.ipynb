{
 "cells": [
  {
   "cell_type": "code",
   "execution_count": 1,
   "metadata": {},
   "outputs": [
    {
     "ename": "ModuleNotFoundError",
     "evalue": "No module named 'jupyter_dash'",
     "output_type": "error",
     "traceback": [
      "\u001b[1;31m---------------------------------------------------------------------------\u001b[0m",
      "\u001b[1;31mModuleNotFoundError\u001b[0m                       Traceback (most recent call last)",
      "\u001b[1;32m<ipython-input-1-2f1f4f6b6df5>\u001b[0m in \u001b[0;36m<module>\u001b[1;34m\u001b[0m\n\u001b[1;32m----> 1\u001b[1;33m \u001b[1;32mfrom\u001b[0m \u001b[0mjupyter_dash\u001b[0m \u001b[1;32mimport\u001b[0m \u001b[0mJupyterDash\u001b[0m\u001b[1;33m\u001b[0m\u001b[1;33m\u001b[0m\u001b[0m\n\u001b[0m\u001b[0;32m      2\u001b[0m \u001b[1;33m\u001b[0m\u001b[0m\n\u001b[0;32m      3\u001b[0m \u001b[1;32mimport\u001b[0m \u001b[0mdash\u001b[0m\u001b[1;33m\u001b[0m\u001b[1;33m\u001b[0m\u001b[0m\n\u001b[0;32m      4\u001b[0m \u001b[1;32mimport\u001b[0m \u001b[0mdash_core_components\u001b[0m \u001b[1;32mas\u001b[0m \u001b[0mdcc\u001b[0m\u001b[1;33m\u001b[0m\u001b[1;33m\u001b[0m\u001b[0m\n\u001b[0;32m      5\u001b[0m \u001b[1;32mimport\u001b[0m \u001b[0mdash_html_components\u001b[0m \u001b[1;32mas\u001b[0m \u001b[0mhtml\u001b[0m\u001b[1;33m\u001b[0m\u001b[1;33m\u001b[0m\u001b[0m\n",
      "\u001b[1;31mModuleNotFoundError\u001b[0m: No module named 'jupyter_dash'"
     ]
    }
   ],
   "source": [
    "from jupyter_dash import JupyterDash\n",
    "\n",
    "import dash\n",
    "import dash_core_components as dcc\n",
    "import dash_html_components as html\n",
    "import pandas as pd"
   ]
  },
  {
   "cell_type": "code",
   "execution_count": null,
   "metadata": {},
   "outputs": [],
   "source": [
    "#pip install jupyter-dash"
   ]
  },
  {
   "cell_type": "code",
   "execution_count": 3,
   "metadata": {},
   "outputs": [
    {
     "name": "stdout",
     "output_type": "stream",
     "text": [
      "Collecting dashNote: you may need to restart the kernel to use updated packages.\n",
      "\n",
      "  Downloading dash-1.14.0.tar.gz (70 kB)\n",
      "Requirement already satisfied: Flask>=1.0.2 in c:\\users\\colin\\anaconda3\\envs\\pythondata\\lib\\site-packages (from dash) (1.1.2)\n",
      "Collecting flask-compress\n",
      "  Downloading Flask-Compress-1.5.0.tar.gz (6.5 kB)\n",
      "Requirement already satisfied: plotly in c:\\users\\colin\\anaconda3\\envs\\pythondata\\lib\\site-packages (from dash) (4.8.1)\n",
      "Collecting dash_renderer==1.6.0\n",
      "  Downloading dash_renderer-1.6.0.tar.gz (1.2 MB)\n",
      "Collecting dash-core-components==1.10.2\n",
      "  Downloading dash_core_components-1.10.2.tar.gz (3.4 MB)\n",
      "Collecting dash-html-components==1.0.3\n",
      "  Downloading dash_html_components-1.0.3.tar.gz (187 kB)\n",
      "Collecting dash-table==4.9.0\n",
      "  Downloading dash_table-4.9.0.tar.gz (1.8 MB)\n",
      "Requirement already satisfied: future in c:\\users\\colin\\anaconda3\\envs\\pythondata\\lib\\site-packages (from dash) (0.18.2)\n",
      "Requirement already satisfied: click>=5.1 in c:\\users\\colin\\anaconda3\\envs\\pythondata\\lib\\site-packages (from Flask>=1.0.2->dash) (7.1.2)\n",
      "Requirement already satisfied: itsdangerous>=0.24 in c:\\users\\colin\\anaconda3\\envs\\pythondata\\lib\\site-packages (from Flask>=1.0.2->dash) (1.1.0)\n",
      "Requirement already satisfied: Werkzeug>=0.15 in c:\\users\\colin\\anaconda3\\envs\\pythondata\\lib\\site-packages (from Flask>=1.0.2->dash) (1.0.1)\n",
      "Requirement already satisfied: Jinja2>=2.10.1 in c:\\users\\colin\\anaconda3\\envs\\pythondata\\lib\\site-packages (from Flask>=1.0.2->dash) (2.11.2)\n",
      "Collecting brotli\n",
      "  Downloading Brotli-1.0.7-cp37-cp37m-win_amd64.whl (358 kB)\n",
      "Requirement already satisfied: retrying>=1.3.3 in c:\\users\\colin\\anaconda3\\envs\\pythondata\\lib\\site-packages (from plotly->dash) (1.3.3)\n",
      "Requirement already satisfied: six in c:\\users\\colin\\anaconda3\\envs\\pythondata\\lib\\site-packages (from plotly->dash) (1.15.0)\n",
      "Requirement already satisfied: MarkupSafe>=0.23 in c:\\users\\colin\\anaconda3\\envs\\pythondata\\lib\\site-packages (from Jinja2>=2.10.1->Flask>=1.0.2->dash) (1.1.1)\n",
      "Building wheels for collected packages: dash, flask-compress, dash-renderer, dash-core-components, dash-html-components, dash-table\n",
      "  Building wheel for dash (setup.py): started\n",
      "  Building wheel for dash (setup.py): finished with status 'done'\n",
      "  Created wheel for dash: filename=dash-1.14.0-py3-none-any.whl size=80132 sha256=b81d42d8628dc70cf26963627e32121ef77dd4a1b835217fe0b42c3ca1f69f99\n",
      "  Stored in directory: c:\\users\\colin\\appdata\\local\\pip\\cache\\wheels\\77\\53\\27\\031b701ce8077990289c07ea1298e5a217fab3a4639b168856\n",
      "  Building wheel for flask-compress (setup.py): started\n",
      "  Building wheel for flask-compress (setup.py): finished with status 'done'\n",
      "  Created wheel for flask-compress: filename=Flask_Compress-1.5.0-py3-none-any.whl size=5277 sha256=f3b65a12ed8ab77826885d353f26e2c2e8f43255d31ecbf9041c44286ed511ba\n",
      "  Stored in directory: c:\\users\\colin\\appdata\\local\\pip\\cache\\wheels\\d6\\9f\\c9\\4bf2abf65cceaa8d19423bc34b88443b3b063f167d2082c212\n",
      "  Building wheel for dash-renderer (setup.py): started\n",
      "  Building wheel for dash-renderer (setup.py): finished with status 'done'\n",
      "  Created wheel for dash-renderer: filename=dash_renderer-1.6.0-py3-none-any.whl size=1182223 sha256=ceebdc39ff824208b75f5de974d38e1d23a534fc6f35327f8b2ed663f684b64d\n",
      "  Stored in directory: c:\\users\\colin\\appdata\\local\\pip\\cache\\wheels\\37\\31\\d9\\3b53bbe9389c1ff7b0ac2ec25e811cf2303009e426243eaf61\n",
      "  Building wheel for dash-core-components (setup.py): started\n",
      "  Building wheel for dash-core-components (setup.py): finished with status 'done'\n",
      "  Created wheel for dash-core-components: filename=dash_core_components-1.10.2-py3-none-any.whl size=3457327 sha256=bf5b92ec22950dcd474c56123cece4fa0e7e562c055d0d4e57f01ae6f94b9613\n",
      "  Stored in directory: c:\\users\\colin\\appdata\\local\\pip\\cache\\wheels\\17\\97\\01\\848073c7de32c1381023e5cf42d66ce4d6aa1608dbb93a983a\n",
      "  Building wheel for dash-html-components (setup.py): started\n",
      "  Building wheel for dash-html-components (setup.py): finished with status 'done'\n",
      "  Created wheel for dash-html-components: filename=dash_html_components-1.0.3-py3-none-any.whl size=427310 sha256=5837194c78b1470b4346117dee7bcdda634350c962c64f3e7ca1d584e362eeb7\n",
      "  Stored in directory: c:\\users\\colin\\appdata\\local\\pip\\cache\\wheels\\36\\34\\f9\\c3d147461b28467d5bbd14d255be66f6728a1580ff9fbebece\n",
      "  Building wheel for dash-table (setup.py): started\n",
      "  Building wheel for dash-table (setup.py): finished with status 'done'\n",
      "  Created wheel for dash-table: filename=dash_table-4.9.0-py3-none-any.whl size=1780771 sha256=29b7f45e07db08bed00a6ce7d7d07ad04e0c49c6d39c86f423f83463407aa4b1\n",
      "  Stored in directory: c:\\users\\colin\\appdata\\local\\pip\\cache\\wheels\\44\\aa\\7a\\73ca1e791ccd10a7f9863fbcf7266f5f6dc1a69aedf045a3c8\n",
      "Successfully built dash flask-compress dash-renderer dash-core-components dash-html-components dash-table\n",
      "Installing collected packages: brotli, flask-compress, dash-renderer, dash-core-components, dash-html-components, dash-table, dash\n",
      "Successfully installed brotli-1.0.7 dash-1.14.0 dash-core-components-1.10.2 dash-html-components-1.0.3 dash-renderer-1.6.0 dash-table-4.9.0 flask-compress-1.5.0\n"
     ]
    }
   ],
   "source": [
    "#pip install dash"
   ]
  },
  {
   "cell_type": "code",
   "execution_count": 5,
   "metadata": {},
   "outputs": [],
   "source": [
    "JupyterDash.infer_jupyter_proxy_config()"
   ]
  },
  {
   "cell_type": "code",
   "execution_count": null,
   "metadata": {},
   "outputs": [],
   "source": [
    "import pandas as pd\n",
    "df = pd.read_csv ('cleaned_aq.csv')\n",
    "df.to_json ('cleaned_aq.json')"
   ]
  },
  {
   "cell_type": "code",
   "execution_count": null,
   "metadata": {},
   "outputs": [],
   "source": [
    "df = pd.read_csv('cleaned_aq.csv')\n",
    "available_indicators = df['loan identifier'].unique()"
   ]
  },
  {
   "cell_type": "code",
   "execution_count": null,
   "metadata": {},
   "outputs": [],
   "source": [
    "def generate_table(dataframe, max_rows=10):\n",
    "    return html.Table([\n",
    "        html.Thead(\n",
    "            html.Tr([html.Th(col) for col in dataframe.columns])\n",
    "        ),\n",
    "        html.Tbody([\n",
    "            html.Tr([\n",
    "                html.Td(dataframe.iloc[i][col]) for col in dataframe.columns\n",
    "            ]) for i in range(min(len(dataframe), max_rows))\n",
    "        ])\n",
    "    ])"
   ]
  },
  {
   "cell_type": "code",
   "execution_count": null,
   "metadata": {},
   "outputs": [],
   "source": [
    "external_stylesheets = ['https://codepen.io/chriddyp/pen/bWLwgP.css']"
   ]
  },
  {
   "cell_type": "code",
   "execution_count": null,
   "metadata": {},
   "outputs": [],
   "source": [
    "app = dash.Dash(__name__, external_stylesheets=external_stylesheets)\n",
    "\n",
    "app.layout = html.Div(children=[\n",
    "    html.H4(children='US Agriculture Exports (2011)'),\n",
    "    generate_table(df)\n",
    "])"
   ]
  },
  {
   "cell_type": "code",
   "execution_count": null,
   "metadata": {},
   "outputs": [
    {
     "ename": "OSError",
     "evalue": "Unable to communicate with the jupyter_dash notebook or JupyterLab \nextension required to infer Jupyter configuration.",
     "output_type": "error",
     "traceback": [
      "\u001b[1;31m---------------------------------------------------------------------------\u001b[0m",
      "\u001b[1;31mOSError\u001b[0m                                   Traceback (most recent call last)",
      "\u001b[1;32m<ipython-input-4-aac7d3a89f28>\u001b[0m in \u001b[0;36m<module>\u001b[1;34m\u001b[0m\n\u001b[1;32m----> 1\u001b[1;33m \u001b[0mJupyterDash\u001b[0m\u001b[1;33m.\u001b[0m\u001b[0minfer_jupyter_proxy_config\u001b[0m\u001b[1;33m(\u001b[0m\u001b[1;33m)\u001b[0m\u001b[1;33m\u001b[0m\u001b[1;33m\u001b[0m\u001b[0m\n\u001b[0m",
      "\u001b[1;32m~\\Anaconda3\\lib\\site-packages\\jupyter_dash\\jupyter_app.py\u001b[0m in \u001b[0;36minfer_jupyter_proxy_config\u001b[1;34m(cls)\u001b[0m\n\u001b[0;32m     68\u001b[0m             \u001b[1;32mreturn\u001b[0m\u001b[1;33m\u001b[0m\u001b[1;33m\u001b[0m\u001b[0m\n\u001b[0;32m     69\u001b[0m \u001b[1;33m\u001b[0m\u001b[0m\n\u001b[1;32m---> 70\u001b[1;33m         \u001b[0m_request_jupyter_config\u001b[0m\u001b[1;33m(\u001b[0m\u001b[1;33m)\u001b[0m\u001b[1;33m\u001b[0m\u001b[1;33m\u001b[0m\u001b[0m\n\u001b[0m\u001b[0;32m     71\u001b[0m \u001b[1;33m\u001b[0m\u001b[0m\n\u001b[0;32m     72\u001b[0m     \u001b[1;32mdef\u001b[0m \u001b[0m__init__\u001b[0m\u001b[1;33m(\u001b[0m\u001b[0mself\u001b[0m\u001b[1;33m,\u001b[0m \u001b[0mname\u001b[0m\u001b[1;33m=\u001b[0m\u001b[1;32mNone\u001b[0m\u001b[1;33m,\u001b[0m \u001b[0mserver_url\u001b[0m\u001b[1;33m=\u001b[0m\u001b[1;32mNone\u001b[0m\u001b[1;33m,\u001b[0m \u001b[1;33m**\u001b[0m\u001b[0mkwargs\u001b[0m\u001b[1;33m)\u001b[0m\u001b[1;33m:\u001b[0m\u001b[1;33m\u001b[0m\u001b[1;33m\u001b[0m\u001b[0m\n",
      "\u001b[1;32m~\\Anaconda3\\lib\\site-packages\\jupyter_dash\\comms.py\u001b[0m in \u001b[0;36m_request_jupyter_config\u001b[1;34m(timeout)\u001b[0m\n\u001b[0;32m     61\u001b[0m             \u001b[1;31m# give up\u001b[0m\u001b[1;33m\u001b[0m\u001b[1;33m\u001b[0m\u001b[1;33m\u001b[0m\u001b[0m\n\u001b[0;32m     62\u001b[0m             raise EnvironmentError(\n\u001b[1;32m---> 63\u001b[1;33m                 \u001b[1;34m\"Unable to communicate with the jupyter_dash notebook or JupyterLab \\n\"\u001b[0m\u001b[1;33m\u001b[0m\u001b[1;33m\u001b[0m\u001b[0m\n\u001b[0m\u001b[0;32m     64\u001b[0m                 \u001b[1;34m\"extension required to infer Jupyter configuration.\"\u001b[0m\u001b[1;33m\u001b[0m\u001b[1;33m\u001b[0m\u001b[0m\n\u001b[0;32m     65\u001b[0m             )\n",
      "\u001b[1;31mOSError\u001b[0m: Unable to communicate with the jupyter_dash notebook or JupyterLab \nextension required to infer Jupyter configuration."
     ]
    }
   ],
   "source": [
    "if __name__ == '__main__':\n",
    "    app.run_server(debug=True)"
   ]
  },
  {
   "cell_type": "code",
   "execution_count": null,
   "metadata": {},
   "outputs": [],
   "source": []
  }
 ],
 "metadata": {
  "kernelspec": {
   "display_name": "PythonData",
   "language": "python",
   "name": "pythondata"
  }
 },
 "nbformat": 4,
 "nbformat_minor": 4
}
