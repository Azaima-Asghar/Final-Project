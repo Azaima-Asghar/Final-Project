{
 "cells": [
  {
   "cell_type": "code",
   "execution_count": 1,
   "metadata": {},
   "outputs": [
    {
     "name": "stdout",
     "output_type": "stream",
     "text": [
      "Collecting jupyter-plotly-dash\n",
      "  Downloading jupyter_plotly_dash-0.4.2-py3-none-any.whl (29 kB)\n",
      "Collecting dpd-components\n",
      "  Downloading dpd_components-0.1.0.tar.gz (4.3 kB)\n",
      "Collecting nbserverproxyNote: you may need to restart the kernel to use updated packages.\n"
     ]
    },
    {
     "name": "stderr",
     "output_type": "stream",
     "text": [
      "  WARNING: The script sqlformat.exe is installed in 'C:\\Users\\kalta\\Anaconda3\\Scripts' which is not on PATH.\n",
      "  Consider adding this directory to PATH or, if you prefer to suppress this warning, use --no-warn-script-location.\n",
      "  WARNING: The script django-admin.exe is installed in 'C:\\Users\\kalta\\Anaconda3\\Scripts' which is not on PATH.\n",
      "  Consider adding this directory to PATH or, if you prefer to suppress this warning, use --no-warn-script-location.\n"
     ]
    },
    {
     "name": "stdout",
     "output_type": "stream",
     "text": [
      "\n",
      "  Downloading nbserverproxy-0.8.8-py3-none-any.whl (7.5 kB)\n",
      "Requirement already satisfied: jupyter in c:\\users\\kalta\\anaconda3\\lib\\site-packages (from jupyter-plotly-dash) (1.0.0)\n",
      "Collecting aiohttp\n",
      "  Downloading aiohttp-3.6.2-cp37-cp37m-win_amd64.whl (649 kB)\n",
      "Collecting django-bootstrap4\n",
      "  Downloading django_bootstrap4-2.2.0-py3-none-any.whl (24 kB)\n",
      "Collecting django-plotly-dash\n",
      "  Downloading django_plotly_dash-1.4.2-py3-none-any.whl (44 kB)\n",
      "Collecting dpd-static-support\n",
      "  Downloading dpd_static_support-0.0.5-py3-none-any.whl (509 kB)\n",
      "Requirement already satisfied: notebook in c:\\users\\kalta\\anaconda3\\lib\\site-packages (from nbserverproxy->jupyter-plotly-dash) (6.0.3)\n",
      "Requirement already satisfied: ipywidgets in c:\\users\\kalta\\anaconda3\\lib\\site-packages (from jupyter->jupyter-plotly-dash) (7.5.1)\n",
      "Requirement already satisfied: qtconsole in c:\\users\\kalta\\anaconda3\\lib\\site-packages (from jupyter->jupyter-plotly-dash) (4.7.4)\n",
      "Requirement already satisfied: jupyter-console in c:\\users\\kalta\\anaconda3\\lib\\site-packages (from jupyter->jupyter-plotly-dash) (6.1.0)\n",
      "Requirement already satisfied: nbconvert in c:\\users\\kalta\\anaconda3\\lib\\site-packages (from jupyter->jupyter-plotly-dash) (5.6.1)\n",
      "Requirement already satisfied: ipykernel in c:\\users\\kalta\\anaconda3\\lib\\site-packages (from jupyter->jupyter-plotly-dash) (5.3.0)\n",
      "Collecting multidict<5.0,>=4.5\n",
      "  Downloading multidict-4.7.6-cp37-cp37m-win_amd64.whl (48 kB)\n",
      "Collecting yarl<2.0,>=1.0\n",
      "  Downloading yarl-1.4.2-cp37-cp37m-win_amd64.whl (125 kB)\n",
      "Collecting async-timeout<4.0,>=3.0\n",
      "  Downloading async_timeout-3.0.1-py3-none-any.whl (8.2 kB)\n",
      "Requirement already satisfied: attrs>=17.3.0 in c:\\users\\kalta\\anaconda3\\lib\\site-packages (from aiohttp->jupyter-plotly-dash) (19.3.0)\n",
      "Requirement already satisfied: chardet<4.0,>=2.0 in c:\\users\\kalta\\anaconda3\\lib\\site-packages (from aiohttp->jupyter-plotly-dash) (3.0.4)\n",
      "Requirement already satisfied: beautifulsoup4<5.0.0,>=4.8.0 in c:\\users\\kalta\\anaconda3\\lib\\site-packages (from django-bootstrap4->jupyter-plotly-dash) (4.9.1)\n",
      "Collecting django<4.0,>=2.2\n",
      "  Downloading Django-3.0.8-py3-none-any.whl (7.5 MB)\n",
      "Requirement already satisfied: importlib-metadata<2.0.0,>=1.5.0; python_version < \"3.8\" in c:\\users\\kalta\\anaconda3\\lib\\site-packages (from django-bootstrap4->jupyter-plotly-dash) (1.6.1)\n",
      "Requirement already satisfied: dash-renderer in c:\\users\\kalta\\anaconda3\\lib\\site-packages (from django-plotly-dash->jupyter-plotly-dash) (1.5.1)\n",
      "Requirement already satisfied: Flask>=1.0.2 in c:\\users\\kalta\\anaconda3\\lib\\site-packages (from django-plotly-dash->jupyter-plotly-dash) (1.1.2)\n",
      "Requirement already satisfied: dash-core-components in c:\\users\\kalta\\anaconda3\\lib\\site-packages (from django-plotly-dash->jupyter-plotly-dash) (1.10.1)\n",
      "Requirement already satisfied: dash>=1.11 in c:\\users\\kalta\\anaconda3\\lib\\site-packages (from django-plotly-dash->jupyter-plotly-dash) (1.13.4)\n",
      "Requirement already satisfied: dash-html-components in c:\\users\\kalta\\anaconda3\\lib\\site-packages (from django-plotly-dash->jupyter-plotly-dash) (1.0.3)\n",
      "Requirement already satisfied: plotly in c:\\users\\kalta\\anaconda3\\lib\\site-packages (from django-plotly-dash->jupyter-plotly-dash) (4.8.1)\n",
      "Requirement already satisfied: tornado>=5.0 in c:\\users\\kalta\\anaconda3\\lib\\site-packages (from notebook->nbserverproxy->jupyter-plotly-dash) (6.0.4)\n",
      "Requirement already satisfied: prometheus-client in c:\\users\\kalta\\anaconda3\\lib\\site-packages (from notebook->nbserverproxy->jupyter-plotly-dash) (0.8.0)\n",
      "Requirement already satisfied: ipython-genutils in c:\\users\\kalta\\anaconda3\\lib\\site-packages (from notebook->nbserverproxy->jupyter-plotly-dash) (0.2.0)\n",
      "Requirement already satisfied: jinja2 in c:\\users\\kalta\\anaconda3\\lib\\site-packages (from notebook->nbserverproxy->jupyter-plotly-dash) (2.11.2)\n",
      "Requirement already satisfied: Send2Trash in c:\\users\\kalta\\anaconda3\\lib\\site-packages (from notebook->nbserverproxy->jupyter-plotly-dash) (1.5.0)\n",
      "Requirement already satisfied: jupyter-core>=4.6.1 in c:\\users\\kalta\\anaconda3\\lib\\site-packages (from notebook->nbserverproxy->jupyter-plotly-dash) (4.6.3)\n",
      "Requirement already satisfied: jupyter-client>=5.3.4 in c:\\users\\kalta\\anaconda3\\lib\\site-packages (from notebook->nbserverproxy->jupyter-plotly-dash) (6.1.3)\n",
      "Requirement already satisfied: nbformat in c:\\users\\kalta\\anaconda3\\lib\\site-packages (from notebook->nbserverproxy->jupyter-plotly-dash) (5.0.7)\n",
      "Requirement already satisfied: terminado>=0.8.1 in c:\\users\\kalta\\anaconda3\\lib\\site-packages (from notebook->nbserverproxy->jupyter-plotly-dash) (0.8.3)\n",
      "Requirement already satisfied: pyzmq>=17 in c:\\users\\kalta\\anaconda3\\lib\\site-packages (from notebook->nbserverproxy->jupyter-plotly-dash) (18.1.1)\n",
      "Requirement already satisfied: traitlets>=4.2.1 in c:\\users\\kalta\\anaconda3\\lib\\site-packages (from notebook->nbserverproxy->jupyter-plotly-dash) (4.3.3)\n",
      "Requirement already satisfied: widgetsnbextension~=3.5.0 in c:\\users\\kalta\\anaconda3\\lib\\site-packages (from ipywidgets->jupyter->jupyter-plotly-dash) (3.5.1)\n",
      "Requirement already satisfied: ipython>=4.0.0; python_version >= \"3.3\" in c:\\users\\kalta\\anaconda3\\lib\\site-packages (from ipywidgets->jupyter->jupyter-plotly-dash) (7.15.0)\n",
      "Requirement already satisfied: pygments in c:\\users\\kalta\\anaconda3\\lib\\site-packages (from qtconsole->jupyter->jupyter-plotly-dash) (2.6.1)\n",
      "Requirement already satisfied: qtpy in c:\\users\\kalta\\anaconda3\\lib\\site-packages (from qtconsole->jupyter->jupyter-plotly-dash) (1.9.0)\n",
      "Requirement already satisfied: prompt-toolkit!=3.0.0,!=3.0.1,<3.1.0,>=2.0.0 in c:\\users\\kalta\\anaconda3\\lib\\site-packages (from jupyter-console->jupyter->jupyter-plotly-dash) (3.0.5)\n",
      "Requirement already satisfied: bleach in c:\\users\\kalta\\anaconda3\\lib\\site-packages (from nbconvert->jupyter->jupyter-plotly-dash) (3.1.5)\n",
      "Requirement already satisfied: entrypoints>=0.2.2 in c:\\users\\kalta\\anaconda3\\lib\\site-packages (from nbconvert->jupyter->jupyter-plotly-dash) (0.3)\n",
      "Requirement already satisfied: pandocfilters>=1.4.1 in c:\\users\\kalta\\anaconda3\\lib\\site-packages (from nbconvert->jupyter->jupyter-plotly-dash) (1.4.2)\n",
      "Requirement already satisfied: testpath in c:\\users\\kalta\\anaconda3\\lib\\site-packages (from nbconvert->jupyter->jupyter-plotly-dash) (0.4.4)\n",
      "Requirement already satisfied: mistune<2,>=0.8.1 in c:\\users\\kalta\\anaconda3\\lib\\site-packages (from nbconvert->jupyter->jupyter-plotly-dash) (0.8.4)\n",
      "Requirement already satisfied: defusedxml in c:\\users\\kalta\\anaconda3\\lib\\site-packages (from nbconvert->jupyter->jupyter-plotly-dash) (0.6.0)\n",
      "Requirement already satisfied: idna>=2.0 in c:\\users\\kalta\\anaconda3\\lib\\site-packages (from yarl<2.0,>=1.0->aiohttp->jupyter-plotly-dash) (2.9)\n",
      "Requirement already satisfied: soupsieve>1.2 in c:\\users\\kalta\\anaconda3\\lib\\site-packages (from beautifulsoup4<5.0.0,>=4.8.0->django-bootstrap4->jupyter-plotly-dash) (2.0.1)\n",
      "Requirement already satisfied: pytz in c:\\users\\kalta\\anaconda3\\lib\\site-packages (from django<4.0,>=2.2->django-bootstrap4->jupyter-plotly-dash) (2020.1)\n",
      "Collecting sqlparse>=0.2.2\n",
      "  Downloading sqlparse-0.3.1-py2.py3-none-any.whl (40 kB)\n",
      "Collecting asgiref~=3.2\n",
      "  Downloading asgiref-3.2.10-py3-none-any.whl (19 kB)\n",
      "Requirement already satisfied: zipp>=0.5 in c:\\users\\kalta\\anaconda3\\lib\\site-packages (from importlib-metadata<2.0.0,>=1.5.0; python_version < \"3.8\"->django-bootstrap4->jupyter-plotly-dash) (3.1.0)\n",
      "Requirement already satisfied: Werkzeug>=0.15 in c:\\users\\kalta\\anaconda3\\lib\\site-packages (from Flask>=1.0.2->django-plotly-dash->jupyter-plotly-dash) (1.0.1)\n",
      "Requirement already satisfied: click>=5.1 in c:\\users\\kalta\\anaconda3\\lib\\site-packages (from Flask>=1.0.2->django-plotly-dash->jupyter-plotly-dash) (7.1.2)\n",
      "Requirement already satisfied: itsdangerous>=0.24 in c:\\users\\kalta\\anaconda3\\lib\\site-packages (from Flask>=1.0.2->django-plotly-dash->jupyter-plotly-dash) (1.1.0)\n",
      "Requirement already satisfied: flask-compress in c:\\users\\kalta\\anaconda3\\lib\\site-packages (from dash>=1.11->django-plotly-dash->jupyter-plotly-dash) (1.5.0)\n",
      "Requirement already satisfied: dash-table==4.8.1 in c:\\users\\kalta\\anaconda3\\lib\\site-packages (from dash>=1.11->django-plotly-dash->jupyter-plotly-dash) (4.8.1)\n",
      "Requirement already satisfied: future in c:\\users\\kalta\\anaconda3\\lib\\site-packages (from dash>=1.11->django-plotly-dash->jupyter-plotly-dash) (0.18.2)\n",
      "Requirement already satisfied: six in c:\\users\\kalta\\appdata\\roaming\\python\\python37\\site-packages (from plotly->django-plotly-dash->jupyter-plotly-dash) (1.14.0)\n",
      "Requirement already satisfied: retrying>=1.3.3 in c:\\users\\kalta\\anaconda3\\lib\\site-packages (from plotly->django-plotly-dash->jupyter-plotly-dash) (1.3.3)\n",
      "Requirement already satisfied: MarkupSafe>=0.23 in c:\\users\\kalta\\anaconda3\\lib\\site-packages (from jinja2->notebook->nbserverproxy->jupyter-plotly-dash) (1.1.1)\n",
      "Requirement already satisfied: pywin32>=1.0; sys_platform == \"win32\" in c:\\users\\kalta\\anaconda3\\lib\\site-packages (from jupyter-core>=4.6.1->notebook->nbserverproxy->jupyter-plotly-dash) (227)\n",
      "Requirement already satisfied: python-dateutil>=2.1 in c:\\users\\kalta\\anaconda3\\lib\\site-packages (from jupyter-client>=5.3.4->notebook->nbserverproxy->jupyter-plotly-dash) (2.8.1)\n",
      "Requirement already satisfied: jsonschema!=2.5.0,>=2.4 in c:\\users\\kalta\\anaconda3\\lib\\site-packages (from nbformat->notebook->nbserverproxy->jupyter-plotly-dash) (3.2.0)\n",
      "Requirement already satisfied: decorator in c:\\users\\kalta\\anaconda3\\lib\\site-packages (from traitlets>=4.2.1->notebook->nbserverproxy->jupyter-plotly-dash) (4.4.2)\n",
      "Requirement already satisfied: pickleshare in c:\\users\\kalta\\anaconda3\\lib\\site-packages (from ipython>=4.0.0; python_version >= \"3.3\"->ipywidgets->jupyter->jupyter-plotly-dash) (0.7.5)\n",
      "Requirement already satisfied: backcall in c:\\users\\kalta\\anaconda3\\lib\\site-packages (from ipython>=4.0.0; python_version >= \"3.3\"->ipywidgets->jupyter->jupyter-plotly-dash) (0.2.0)\n",
      "Requirement already satisfied: colorama; sys_platform == \"win32\" in c:\\users\\kalta\\appdata\\roaming\\python\\python37\\site-packages (from ipython>=4.0.0; python_version >= \"3.3\"->ipywidgets->jupyter->jupyter-plotly-dash) (0.4.3)\n",
      "Requirement already satisfied: jedi>=0.10 in c:\\users\\kalta\\anaconda3\\lib\\site-packages (from ipython>=4.0.0; python_version >= \"3.3\"->ipywidgets->jupyter->jupyter-plotly-dash) (0.15.2)\n",
      "Requirement already satisfied: setuptools>=18.5 in c:\\users\\kalta\\anaconda3\\lib\\site-packages (from ipython>=4.0.0; python_version >= \"3.3\"->ipywidgets->jupyter->jupyter-plotly-dash) (47.3.0.post20200616)\n",
      "Requirement already satisfied: wcwidth in c:\\users\\kalta\\anaconda3\\lib\\site-packages (from prompt-toolkit!=3.0.0,!=3.0.1,<3.1.0,>=2.0.0->jupyter-console->jupyter->jupyter-plotly-dash) (0.2.4)\n",
      "Requirement already satisfied: webencodings in c:\\users\\kalta\\anaconda3\\lib\\site-packages (from bleach->nbconvert->jupyter->jupyter-plotly-dash) (0.5.1)\n",
      "Requirement already satisfied: packaging in c:\\users\\kalta\\anaconda3\\lib\\site-packages (from bleach->nbconvert->jupyter->jupyter-plotly-dash) (20.4)\n",
      "Requirement already satisfied: brotli in c:\\users\\kalta\\anaconda3\\lib\\site-packages (from flask-compress->dash>=1.11->django-plotly-dash->jupyter-plotly-dash) (1.0.7)\n",
      "Requirement already satisfied: pyrsistent>=0.14.0 in c:\\users\\kalta\\anaconda3\\lib\\site-packages (from jsonschema!=2.5.0,>=2.4->nbformat->notebook->nbserverproxy->jupyter-plotly-dash) (0.16.0)\n",
      "Requirement already satisfied: parso>=0.5.2 in c:\\users\\kalta\\anaconda3\\lib\\site-packages (from jedi>=0.10->ipython>=4.0.0; python_version >= \"3.3\"->ipywidgets->jupyter->jupyter-plotly-dash) (0.5.2)\n",
      "Requirement already satisfied: pyparsing>=2.0.2 in c:\\users\\kalta\\anaconda3\\lib\\site-packages (from packaging->bleach->nbconvert->jupyter->jupyter-plotly-dash) (2.4.7)\n",
      "Building wheels for collected packages: dpd-components\n",
      "  Building wheel for dpd-components (setup.py): started\n",
      "  Building wheel for dpd-components (setup.py): finished with status 'done'\n",
      "  Created wheel for dpd-components: filename=dpd_components-0.1.0-py3-none-any.whl size=4570 sha256=bb866236d141b32f6f103c862c184a548a527b1752c487c708374574ec97d183\n",
      "  Stored in directory: c:\\users\\kalta\\appdata\\local\\pip\\cache\\wheels\\37\\d1\\97\\9b1d5f016c47858e080809c277cbe4c3ff27893b855f78915e\n",
      "Successfully built dpd-components\n",
      "Installing collected packages: dpd-components, nbserverproxy, multidict, yarl, async-timeout, aiohttp, sqlparse, asgiref, django, django-bootstrap4, django-plotly-dash, dpd-static-support, jupyter-plotly-dash\n",
      "Successfully installed aiohttp-3.6.2 asgiref-3.2.10 async-timeout-3.0.1 django-3.0.8 django-bootstrap4-2.2.0 django-plotly-dash-1.4.2 dpd-components-0.1.0 dpd-static-support-0.0.5 jupyter-plotly-dash-0.4.2 multidict-4.7.6 nbserverproxy-0.8.8 sqlparse-0.3.1 yarl-1.4.2\n"
     ]
    }
   ],
   "source": [
    "pip install jupyter-plotly-dash"
   ]
  },
  {
   "cell_type": "code",
   "execution_count": 2,
   "metadata": {},
   "outputs": [
    {
     "data": {
      "text/html": [
       "<div>\n",
       "  <iframe src=\"/app/endpoints/15a7a7e409864e14b39496198c6212a2/\" width=800 height=600 frameborder=\"0\"></iframe>\n",
       "  <hr/><a href=\"/app/endpoints/15a7a7e409864e14b39496198c6212a2/\" target=\"_new\">Open in new window</a> for /app/endpoints/15a7a7e409864e14b39496198c6212a2/\n",
       "</div>"
      ],
      "text/plain": [
       "<jupyter_plotly_dash.dash_wrapper.JupyterDash at 0x1db2234b548>"
      ]
     },
     "execution_count": 2,
     "metadata": {},
     "output_type": "execute_result"
    }
   ],
   "source": [
    "from jupyter_plotly_dash import JupyterDash\n",
    "\n",
    "import dash\n",
    "import dash_core_components as dcc\n",
    "import dash_html_components as html\n",
    "from dash.dependencies import Input, Output\n",
    "\n",
    "app = JupyterDash('SimpleExample')\n",
    "\n",
    "app.layout = html.Div([\n",
    "    dcc.RadioItems(\n",
    "        id='dropdown-color',\n",
    "        options=[{'label': c, 'value': c.lower()}\n",
    "                 for c in ['Red', 'Green', 'Blue']],\n",
    "        value='red'\n",
    "    ),\n",
    "    html.Div(id='output-color'),\n",
    "    dcc.RadioItems(\n",
    "        id='dropdown-size',\n",
    "        options=[{'label': i, 'value': j}\n",
    "                 for i, j in [('L','large'), ('M','medium'), ('S','small')]],\n",
    "        value='medium'\n",
    "    ),\n",
    "    html.Div(id='output-size')\n",
    "\n",
    "])\n",
    "\n",
    "@app.callback(\n",
    "    dash.dependencies.Output('output-color', 'children'),\n",
    "    [dash.dependencies.Input('dropdown-color', 'value')])\n",
    "def callback_color(dropdown_value):\n",
    "    return \"The selected color is %s.\" % dropdown_value\n",
    "\n",
    "@app.callback(\n",
    "    dash.dependencies.Output('output-size', 'children'),\n",
    "    [dash.dependencies.Input('dropdown-color', 'value'),\n",
    "     dash.dependencies.Input('dropdown-size', 'value')])\n",
    "def callback_size(dropdown_color, dropdown_size):\n",
    "    return \"The chosen T-shirt is a %s %s one.\" %(dropdown_size,\n",
    "                                                  dropdown_color)\n",
    "\n",
    "app"
   ]
  },
  {
   "cell_type": "code",
   "execution_count": null,
   "metadata": {},
   "outputs": [],
   "source": []
  }
 ],
 "metadata": {
  "kernelspec": {
   "display_name": "PythonData",
   "language": "python",
   "name": "pythondata"
  },
  "language_info": {
   "codemirror_mode": {
    "name": "ipython",
    "version": 3
   },
   "file_extension": ".py",
   "mimetype": "text/x-python",
   "name": "python",
   "nbconvert_exporter": "python",
   "pygments_lexer": "ipython3",
   "version": "3.7.4"
  }
 },
 "nbformat": 4,
 "nbformat_minor": 4
}
